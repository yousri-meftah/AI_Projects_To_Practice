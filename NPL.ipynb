{
  "cells": [
    {
      "cell_type": "markdown",
      "metadata": {
        "id": "view-in-github",
        "colab_type": "text"
      },
      "source": [
        "<a href=\"https://colab.research.google.com/github/yousri-meftah/Counting_Poeple/blob/main/NPL.ipynb\" target=\"_parent\"><img src=\"https://colab.research.google.com/assets/colab-badge.svg\" alt=\"Open In Colab\"/></a>"
      ]
    },
    {
      "cell_type": "code",
      "execution_count": 1,
      "metadata": {
        "id": "NZpVGMnB4c4V"
      },
      "outputs": [],
      "source": [
        "from keras.models import Sequential\n",
        "from keras.layers import Dense , Dropout , LSTM\n",
        "from  keras.optimizers import Adam , RMSprop\n",
        "import numpy as np\n",
        "import sys\n",
        "import random\n"
      ]
    },
    {
      "cell_type": "code",
      "execution_count": 3,
      "metadata": {
        "colab": {
          "base_uri": "https://localhost:8080/",
          "height": 122
        },
        "id": "f3_3Mno44c4X",
        "outputId": "79d621eb-7154-451b-bd4e-1020aa2882d9"
      },
      "outputs": [
        {
          "output_type": "execute_result",
          "data": {
            "text/plain": [
              "'\\ufeffthe project gutenberg ebook of tantalus\\n    \\nthis ebook is for the use of anyone anywhere in the united states and\\nmost other parts of the world at no cost and with almost no restrictions\\nwhatsoever. you may copy it, give it away or re-use it under the terms\\nof the project gutenberg license included with this ebook or online\\nat www.gutenberg.org. if you are not located in the united states,\\nyou will have to check the laws of the country where you are located\\nbefore using this ebook.\\n\\ntitle: tantalus\\n        or, the future of man\\n\\n\\nauthor: f. c. s. schiller\\n\\nrelease date: december ,  [ebook #]\\n\\nlanguage: english\\n\\noriginal publication: new york: e. p. dutton & company, \\n\\ncredits: tim lindell, david e. brown, and the online distributed proofreading team at https://www.pgdp.net (this book was produced from images made available by the hathitrust digital library.)\\n\\n\\n*** start of the project gutenberg ebook tantalus ***\\n\\n\\n\\n\\ntantalus\\n\\nor\\n\\nthe future of man\\n\\n\\n\\n\\n  to-day and to-morrow\\n  series\\n\\n\\n  daedalus, or science and the future\\n      _by j. b. s. haldane_\\n\\n  icarus, or the future of science\\n      _by bertrand russell, f. r. s._\\n\\n  the mongol in our midst\\n      _by f. g. crookshank, m.d._\\n\\n  wireless possibilities\\n      _by prof. a. m. low_\\n\\n  narcissus, or the anatomy of clothes\\n      _by gerald heard_\\n\\n  tantalus, or the future of man\\n      _by f. c. s. schiller_\\n\\n\\n        in preparation\\n\\n  the passing of the phantoms\\n      _by professor patten_\\n\\n  woman and the future\\n      _by anthony m. ludovici_\\n\\n\\n  e. p. dutton & company\\n\\n\\n\\n\\n  tantalus\\n  or\\n  the future of man\\n\\n  by\\n  f. c. s. schiller\\n\\n  _m.a., d.sc.; fellow and tutor of\\n  corpus christi college, oxford_\\n\\n  [illustration]\\n\\n  _man never is, but always to be, blest_\\n\\n  new york\\n  e. p. dutton & company\\n   fifth avenue\\n\\n\\n\\n\\n  copyright \\n  by e. p. dutton & company\\n\\n  _all rights reserved_\\n\\n  _first printing, november, \\n  second printing, march, _\\n\\n  printed in the united states of america\\n\\n\\n\\n\\npreface\\n\\n\\ni rather anticipate that superficial critics who do not like the\\nargument of this essay will accuse it of pessimism, a charge which\\nperhaps means little more than that they do not like it. nevertheless,\\nit may be worth while to point out, () that pessimism is not a\\nlogical objection to a contention of which the truth cannot otherwise\\nbe questioned, and () that though the argument of _tantalus_ may be\\nsaid generally to corroborate that of _daedalus_ and _icarus_, yet its\\nconclusion is much less pessimistic than theirs, because () it makes\\nit very plain that the evils which threaten the future of mankind are\\nin no case unavoidable. if it is called ‘pessimism’ to point out the\\nmethods by which men may escape destruction, because men do not care\\nto adopt them, i suppose it must be ‘optimism’ to rush violently and\\nopen-eyed down a precipice, and to expect to be saved by a miracle.\\ncertainly such would appear to be the belief upon which human affairs\\nare at present conducted.\\n\\n                                                              f.c.s.s.\\n\\n\\n\\n\\ntantalus\\n\\n\\n\\n\\ntantalus\\n\\n\\n\\n\\nprologue: the oracle of the dead\\n\\n\\nwhen i read in mr haldane’s _daedalus_ the wonderful things that\\nscience was going to do for us, and in mr russell’s _icarus_ how easily\\nboth we and it might come to grief in consequence, it at once became\\nplain to me that of all the heroes of antiquity tantalus would be the\\none best fitted to prognosticate the probable future of man. for, if\\nwe interpret the history of daedalus as meaning the collapse of minoan\\ncivilization under the strain imposed on its moral fibre by material\\nprogress, and the fate of icarus as meaning man’s inability to use the\\npowers of the air without crashing, one could gauge the probability\\nthat history would repeat itself still further, and that man would\\nonce more allow his vices to cheat him of the happiness that seemed so\\nclearly within his reach.\\n\\ni determined, however, to confirm this intelligent forecast by\\nconsulting tantalus himself. to consult the oracle of a dead hero, it\\nwas, i knew, only necessary to undergo the process of ‘incubation,’ a\\nsort of camping out on his tomb, in the skin of a sacrificial beast;\\nand fortunately the tomb of tantalus had just been discovered in\\nphrygia by the archæologists of the british school at athens.\\n\\ni set out, therefore, with great promptitude, and in due course,\\narrived at the ruins of the tomb of tantalus. they did not much\\nresemble a first-class hotel, and, of course, my idea of an\\n‘incubation’ was well laughed at, but i managed to find a pretty level\\ncorner, more or less sheltered from the wind. here i wrapped myself up\\nin my excellent rug, having decided to dispense with the more correct\\nmethod of ensconcing myself in the gory hide of a sacrificial ox. the\\nnight was fine, though cold, and fortunately there were no mosquitoes,\\nnor any of the other insects one would inevitably have encountered in\\nthe dwellings of the living. but the ground was very, very, hard, and\\ni tossed about for hours, regretting my classical education and the\\npsychical researcher’s rashness in trying foolish experiments.\\n\\nat last i fell asleep, at least i suppose so. i also fell a great deal\\nfurther. i seemed to go right through my rocky bed, and to fall down,\\ndown, down, interminably, through a sort of elastic space. when at last\\nthe not wholly unpleasant motion stopped, i found myself in a vast,\\ngrey, sandy plain, illuminated by a cold grey light as though of dawn.\\nthe only thing to catch the eye was a small round hummock, not very far\\nfrom me. on it grew a mighty tree, with dark green pointed leaves and\\ndrooping branches, surrounded by a gleaming white fence or paling. i\\nnaturally walked towards it.\\n\\nas i got near, i noticed that the white paling, which completely\\nenclosed the hummock, was composed of _bones_, or rather of every\\nimaginable sort of spine, tooth and sting, garnished with the saws\\nand swords of sawfish and swordfish, and all knit together into an\\nimpenetrable _cheval de frise_ that prevented approach to the foot of\\nthe tree. the soil all round this strange hedge had apparently been\\ntrodden into deep mud by some creature that had walked round and round\\nthe tree, and the water required for its manufacture was supplied by a\\nsmall spring which rose within the enclosure and flowed out through its\\ninterstices.\\n\\nas i walked round the tree to the further side of the hummock, i came\\nupon an extraordinary sight. i beheld a naked man trying to reach some\\nof the fruit that dangled down from the outer branches of the tree but\\nappeared to be just out of his reach, and so intent upon his design\\nthat he did not notice my approach. he seemed a tall man, and the upper\\npart of his body was well formed. his features were good and regular,\\nthough somewhat hard, and not intellectual; his resolute jaw bespoke\\nthe man of action, accustomed to command and to be obeyed. so far, his\\nappearance would have done credit to any modern captain of industry.\\nbut the lower half of his body appeared to be misshapen. his thighs\\nwere so curved that he could not walk upright, but had to stoop and\\nlean forward as he slowly shambled along. still more monstrous seemed\\nthe feet, with which he churned up the mud around the fence; they were\\nenormous and hardly seemed human in their shape, though they were too\\ndeeply plunged in the mud to permit one to see what exactly was wrong\\nwith them.\\n\\nthis strange being, whom the bold intuition of the dream-consciousness\\nat once identified with tantalus, was evidently trying to grasp the\\nfruit that hung from the lower branches of the tree. for a while his\\nefforts were vain, but then a gust of wind brought within his reach a\\nlarge conical shining red fruit he had long coveted. it was one of the\\nstrange features of the tree that it was covered with fruit, and higher\\nup also with flowers, of the most various sizes, shapes, and colours.\\nhe seized it triumphantly; but the effect was surprising. for he had\\nhardly touched it when it exploded, and covered him from head to foot\\nwith its blood-red juice. he at once sank senseless to the ground. but,\\nafter a while, he slowly recovered, and recommenced his old game. this\\ntime, he attacked a large round yellowish fruit; but when he succeeded\\nin seizing it, it too exploded, and poured out upon him volumes of a\\nheavy yellow-green vapour. again he collapsed, and this time his stupor\\nlasted longer.\\n\\nby the time he began to stir again i had, i thought, grasped the\\nsituation, and determined to intervene. so i drew near, and addressed\\nhim: “can i be mistaken in thinking that i see before me the far-famed\\nhero, tantalus, boon companion of the gods?” “and their victim.”\\n“and what tree is this, i pray you, about which you busy yourself?”\\n“the tree of knowledge.” “and the water, which you have trampled\\ninto mud, is what?” “the elixir of life.” “then you seem to have all\\nthe materials for a happy life. why don’t you eat of the fruits of\\nthe tree, and drink of the elixir?” “you have seen the results of my\\nefforts.” “i cannot but think you have been unfortunate in your choice\\nof the fruits: there are many that look much better higher up.” “and\\nhow am i to get at them?” “well, of course, you must break through\\nall these _debris_ of former animal life, which bar your access to\\nthe trunk of the tree, and prevent you from drinking of the water of\\nlife; after that, you can climb up the tree, and pick the best of the\\nfruits.” “and how am i to break through the barrier of bones?” “even\\nthough you appear to have no instruments, you can surely find a stone?”\\n“where shall i find a stone in the plain of forgetfulness? and besides,\\nhow should i climb the tree with these ... feet?” and he lifted up\\none of his monstrous limbs. “certainly you seem to be pretty badly\\nearth-bound,” said i, “but i will try to find you some stones.”\\n\\nso off i set. i had not got far when a fierce blast struck me and\\npeppered me with sand. i struggled stoutly against it, but was nearly\\nchoked. and then, suddenly, i awoke to find that day was dawning and\\nthat the wind had gone round to the north, and was blowing in my face.\\nbut i was well satisfied with my experiment. the interpretation of the\\nresponse i had obtained from tantalus was too plain to need the aid of\\na psycho-analyst.\\n\\n\\n\\n\\ni\\n\\n\\nour best prophets are growing very anxious about our future. they\\nare afraid we are getting to know too much, and are likely to use\\nour knowledge to commit suicide, or rather, mutual murder, after the\\nfashion of the kilkenny cats.\\n\\nto these dismal forecasts it is reasonable to reply that there is\\nnothing novel in the present situation. the human race has always known\\nenough to wreck itself, and its abounding folly has always inspired\\nits wise men with the gravest apprehension for its future. yet,\\neither by chance or providence, it has always known also how to avoid\\ndestruction. it has never known enough to make itself happy; nor does\\nit know enough to do so now. its future has always been precarious,\\nbecause it has always been uncertain whether it would use its knowledge\\nwell or ill, to improve or to ruin itself. it has always had a choice\\nbetween alternative policies, and it has so now.\\n\\nwhat sense then is there in making such a fuss about the present\\ncrisis? it is a particularly plain case of the perennial choice of\\nhercules. what is needed is just a little clear thinking and plain\\nspeaking to a society more than usually debauched by a long regime of\\nflattery, propaganda, and subterfuge. mankind _can_ make a fool of\\nitself, as it always could; if it does, its blood will be on its own\\nhead. for it has knowledge enough to avoid the dangers that threaten\\nit, if it will use its knowledge properly.\\n\\n\\n\\n\\nii\\n\\n\\nthe first fact to be enunciated plainly, and faced, until it grows\\nfamiliar, and its import is appreciated, is that, biologically\\nspeaking, man has ceased to be a progressive species long ago. the\\nevolutionary impetus which carried our ancestors from the level\\nof the ape or even of the lemur, through such subhuman types as\\n_pithecanthropus_, and the heidelberg and neanderthal men, to ‘modern’\\nman, seems to have spent itself by the middle of the palæolithic\\nperiod, _i.e._ say, thirty thousand years ago. at any rate, the\\ncro-magnon people of the aurignacian age, who then appeared upon the\\nscene, were in no wise inferior to any subsequent race of men, either\\nin stature or in brain capacity. they average six feet three inches\\nin height, with one-sixth more brains than the modern european. so\\nfar indeed as their physical remains can indicate, they seem to have\\nbeen very definitely the finest race of human beings that has ever\\nexisted. if we have improved on them, it has probably been only in such\\nminor matters as resistance to the microbes of the many diseases which\\nflourish among dense populations under slum conditions. against that\\nprobability have to be set such certainties as that our toes and many\\nof our muscles are being atrophied and that we are getting more liable\\nto caries and baldness.\\n\\nthis remarkable fact of the arrest of his biological development is\\ncertainly the greatest mystery in the history of man. it at once\\nraises two further questions: in the first place, how did it happen,\\nand what caused it? and, secondly, what has enabled man, nevertheless,\\nto progress in other respects, in knowledge, in power, and in culture?\\n\\nto answer the first question we cannot do better than argue back from\\nwhat is now the most salient feature about man’s biological position,\\nnamely that his survival is determined far more by his relations to\\nthe social group to which he belongs than by personal efficiency:\\nhence he can draw on the collective resources of his tribe, and, to a\\ngrowing extent, gets emancipated from the control of natural selection.\\nthus social selection and the survival of societies profoundly modify\\n(and often defeat), the working of natural selection. the advantages\\nare obvious; it is no longer essential for a member of a society that\\ncollectively controls the conditions of existence to develop any high\\ndegree of personal capacity, in order to survive. a single wise and\\nprovident minister, like joseph, is enough to keep alive millions of\\npharaoh’s subjects through the lean years of famine. but the inferior\\nand incompetent survive with the rest.\\n\\nnow, if we suppose that by mid-palæolithic times man had established\\nhis ascendency over nature and perfected his social organization\\nsufficiently to render these services to his fellows, we have suggested\\na possible cause of the cessation of biological progress. for social\\ninfluences are as likely as not to be ‘contra-selective,’ that is, to\\ntend to preserve by preference the stocks which are less viable from\\na merely biological point of view. they are markedly so at present,\\nand it would be asking too much to expect the tribal chiefs of early\\nmen to have been wise and provident enough to see to it that their\\nsocial institutions were eugenical in their effects. we cannot even now\\nfind such a pitch of wisdom and providence in the controllers of our\\ndestinies.\\n\\n\\n\\n\\niii\\n\\n\\nthe answer to the second question is much easier. the human race has\\ncontinued to progress in its culture, in its knowledge, in its power\\nover nature, because it has devised institutions which have created\\nfor it a continuous social memory that defies death. now, as ever, the\\nwisest and the best must die, while their place is taken by babies\\nborn as ignorant and void of knowledge as in the beginning. only there\\nhas been invented apparatus which relieves the civilized baby of his\\nhereditary ignorance, and renders him potentially the heir to all the\\nwisdom of the ages.\\n\\nin the first place, _language_ not only extends enormously the\\npossibilities of co-operation and common action, but also renders\\npossible the consolidation of customs and their preservation by oral\\ntradition. in the next place, _writing_ enables a society to record\\nall that it considers worth remembering. upon these two inventions may\\nbe reared vast intricate structures, religious, political, social,\\nand scientific, which knit together and dominate human societies from\\ngeneration to generation, and create the conditions for an almost\\nmechanical accumulation of knowledge.\\n\\nman has thereby become an educable creature and fallen a victim to the\\narts of the examiner. provided the mechanisms of education do not get\\nout of gear, it is hard to set limits to the amounts of knowledge with\\nwhich he can be crammed; but it is clear that they are far greater\\nthan he could ever have acquired in a lifetime for himself. and as\\neducation (of sorts) has now become world wide, it might seem that the\\nfuture of knowledge was now assured, and no longer liable to setbacks\\nsuch as those due to the famous burning of the library of alexandria\\nat the command of the caliph omar, or the extinction of the only greek\\nscientists who seriously concerned themselves with the applications of\\nscience to life, of archimedes and his school, in the sack of syracuse.\\nat any rate, it seemed clear that progress in knowledge could continue\\nindefinitely, even in an otherwise stationary or decadent society.\\n\\nwhoever argued thus would fail to make sufficient allowance for the\\nperversity of human nature. human institutions, like the human body,\\nare ever tending to get clogged with the waste products of their\\nown working. hence, so far from performing the functions for which\\nthey were intended, they are constantly becoming the most formidable\\ninstruments for their frustration. experience shows how easily churches\\nbecome the most effective deadeners of religious zeal, how often law\\nbecomes the negation of justice, how deadly is the school to the inborn\\ncraving for knowledge which seemed to aristotle so characteristic of\\nman’s nature.\\n\\naccordingly, no one familiar with the actual working of academic\\ninstitutions is likely to fall into the error of pinning his faith to\\nthem. they are, of course, designed for the purpose of preserving and\\npromoting the highest and most advanced knowledge hitherto attained:\\nbut do they anywhere fulfil this purpose? its execution must of\\nnecessity be left to professors not exempt from human frailty, always\\nselected by more or less defective methods, whose interests by no\\nmeans coincide with those of their subjects. the interest of the\\nsubject is to become more widely understood and so more influential.\\nthe interest of the professor is to become more unassailable, and so\\nmore authoritative. he achieves this by becoming more technical. for\\nthe more technical he gets, the fewer can comprehend him; the fewer\\nare competent to criticize him, the more of an oracle he becomes; if,\\ntherefore, he wishes for an easy life of undisturbed academic leisure,\\nthe more he will indulge his natural tendency to grow more technical as\\nhis knowledge grows, the more he will turn away from those aspects of\\nhis subject which have any direct practical or human interest. he will\\nwrap himself in mysteries of technical jargon, and become as nearly\\nas possible unintelligible. truly, as william james once exclaimed to\\nme, apropos of the policy of certain philosophers, “the natural enemy\\nof any subject is the professor thereof!” it is clear that if these\\ntendencies are allowed to prevail, every subject must in course of time\\nbecome unteachable, and not worth learning.\\n\\nthus educational systems become the chief enemies of education, and\\nseats of learning the chief obstacles to the growth of knowledge, while\\nin an otherwise stagnant or decadent society these tendencies sooner\\nor later get the upper hand and utterly corrupt the social memory.\\nthe power of the professor is revealed not so much by the things he\\nteaches, as by the things he fails or refuses to teach.\\n\\nhistory is full of examples. how many religions have not perished\\nfrom ritual sclerosis, how many sciences have not been degraded into\\npseudo-sciences or games! logic has been just examinable nonsense for\\nover two thousand years. the present economic chaos in the world has\\nbeen indirectly brought about by the policy adopted by the professors\\nof economics forty or fifty years ago, to suit their own convenience.\\nfor they then decided that they must escape from the unwelcome\\nattentions of the public by becoming more ‘scientific’; _i.e._ they\\nceased to express themselves in plain language and took to mathematical\\nformulae and curves instead; with the result that the world promptly\\nrelapsed into its primitive depths of economic ignorance. so soon as\\nthe professors had retired from it, every economic heresy and delusion,\\nwhich had been exposed and uprooted by adam smith, at once revived\\nand flourished. in one generation economics disappeared completely\\nfrom the public ken and the political world, and the makers of the\\npeace treaties of  were so incapable of understanding an economic\\nargument that not even the lucid intelligence of mr keynes could\\ndissuade them from enacting the preposterous conditions which rendered\\nimpossible the realization of their aims.[a] nor was it so very long\\nago that, in order to save the mathematical tripos at cambridge, it\\nhad to be recast, because it had degenerated into an intellectual\\njig-saw puzzle, wholly unrelated to the applications of mathematics\\nto the other sciences. to avoid jealousies, i hasten to add that the\\nuniversity of oxford, which has organized itself as an asylum for\\nlost causes, skilfully cultivates, by means of its classical and\\nhistorical studies, a backward-looking bias in its _alumni_. the true\\n‘greats’ man is meant to go down indelibly imbued with the conviction\\nthat in matters of morals and politics nothing of importance has been\\ndiscovered or said since plato and aristotle, and that nothing else\\nmatters.\\n\\nclearly then we cannot take for granted that in any society knowledge\\ncan progress without limits, nor can we count on our academic\\ninstitutions to save us from stagnation and decay, even in matters of\\nknowledge. all institutions are social mechanisms, and all mechanisms\\nneed a modicum of intelligent supervision, in the absence of which they\\nbecome dangerous engines of destruction.\\n\\n\\n\\n\\niv\\n\\n\\nit appears then that we can extract no guarantee of progress either\\nfrom the nature of man or from the nature of human institutions. there\\nis no _law_ of progress, if by law be meant a superior power able to\\ncoerce the creatures that are said to ‘obey’ it. neither can we extract\\nfrom history any proof of the superiority of civilized man over his\\nuncivilized ancestors. such progress as has been attained has been\\nachieved only by the active co-operation of the progressive organisms:\\nevery step has been fought for, and progress has ceased whenever\\neffort ceased, or was switched off into different directions.\\n\\nconsequently, modern man has no right to ‘boast himself far better\\nthan his fathers’--in intrinsic quality. intrinsically, _i.e._ apart\\nfrom the effects of culture and social training, it is probable that\\nhe is slightly _inferior_ in capacity to his own ancestors, while\\nvery markedly inferior to the great races of antiquity (like the\\ngreeks) in their hey-day. nor is there any reason to suppose that his\\nmoral nature has changed materially. modern man may be a little tamer\\nand better-tempered, because he has been herded together much more\\nclosely than primitive man, and city life, even in slums, demands,\\nand produces, a certain ‘urbanity.’ for many generations those who\\nwould not pack tight and could not stand the strain of constantly\\nexhibiting ‘company manners’ and accommodating their action to those\\nof their fellows, must have fled away into the wilds, where they could\\nbe independent, or have eliminated themselves in other ways, _e.g._ by\\ncommitting murder. it is probable that the social history of iceland,\\nsettled as it was by unbridled individualists who would not brook any\\nform of organized government, might throw some light on this process of\\ntaming the individual.\\n\\nnevertheless there is little doubt that, in the main, humanity is\\nstill yahoo-manity. alike in mentality and in _moral_, modern man is\\nstill substantially identical with his palæolithic ancestors. he is\\nstill the irrational, impulsive, emotional, foolish, destructive,\\ncruel, credulous, creature he always was. normally the yahoo in him\\nis kept under control by the constant pressure of a variety of social\\ninstitutions; but let anything upset an established social order, and\\nthe yahoo comes to the front at once. the history of the past fifty\\nyears abundantly proves that man is still capable of atrocities equal\\nto any in his record. not only have we lived through the greatest\\npolitical and the deadliest natural convulsion, the great war and the\\ntokio earthquake, but the russian revolution has outdone the french and\\nlandru the legendary bluebeard, while for mingled atrocity and baseness\\nthe murders of rasputin and of alexander of serbia are unsurpassed in\\nhistory. the painful truth is that civilization has not improved man’s\\nmoral nature. his moral habits are still mainly matters of custom, and\\nthe effect of moral theories is nugatory everywhere. thus civilization\\nis not even skin deep; it does not go deeper than the clothes.\\n\\n\\n\\n\\nv\\n\\n\\nclearly it is risky to expose the inelastic nature of so stubbornly\\nconservative a creature to new conditions at a rapid rate. he may not\\nbe able to adapt himself quickly enough, and his old reactions, which\\ndid little or no harm before, may become extremely dangerous. yet this\\nis just what has happened. science has exposed the palæolithic savage\\nmasquerading in modern garb to a series of physical and mental shocks\\nwhich have endangered his equilibrium. it has also enormously extended\\nhis power and armed him with a variety of delicate and penetrating\\ninstruments which have often proved edge tools in his hands and which\\nthe utmost wisdom could hardly be trusted to use aright. under these\\nconditions the fighting instinct ceases to be an antiquated foible,\\nlike the hunting instinct, and becomes a deadly danger. no wonder the\\nmore prescient are dismayed at the prospect of the old savage passions\\nrunning amok in the full panoply of civilization!\\n\\n\\n\\n\\nvi\\n\\n\\nnor is this the final item in our tale of woe. a third and most\\nsinister fact which has to be faced is that civilization, as at present\\nconstituted, is very definitely a deteriorating agency, conducing to\\nthe degeneration of mankind. this effect of civilization is nothing\\nnew, but has been operating, it would seem, from the beginning,\\nthough not probably as intensively as now: its discovery, however, is\\nvery recent. it is quite indirect, unintended, and fortuitous, but\\ncumulative, and in the long run has probably been a chief cause in the\\ndecay of states and civilizations, as well as an important factor in\\nthe arrest of biological development which we have had to recognize.\\n\\na simple and easily observable sociological fact is at the bottom\\nof the mischief. the different classes in a society have different\\nbirth-rates and death-rates, and the differences between these yield\\ntheir several net rates of increase or decrease. now, whereas under\\nthe conditions of savage life class differences can hardly exist, or,\\nat least cannot be accentuated, so that the whole tribe flourishes or\\nperishes together, and among barbarians the upper classes have a very\\ngreat advantage and the tribe recruits itself chiefly from the children\\nof the chiefs, because the conditions of life are so severe that\\nthe lower classes are not able to rear many children; in civilized\\nsocieties these conditions are reversed. it is found that though both\\nbirth-rates and death-rates grow as we descend the social scale, so\\ndoes the net rate of increase. indeed, the highest or ruling class\\nnowhere appears to keep up its numbers without considerable recruitment\\nfrom below. so society, as at present organized, is always dying off at\\nthe top, and proliferating at the bottom, of the social pyramid.\\n\\nthe disastrous consequences of this sort of social organization may\\neasily be apprehended, with a little reflection. () all societies,\\neven those whose social structure is most rigid, have need of ability,\\ndiscover it, and reward it by social promotion. but () as this\\npromotion means passing into a class with a relatively inadequate\\nrate of reproduction, the biological penalty attaching to social\\npromotion is racial extinction. thus () the ultimate reward of merit\\nis sterilization, and society appears to be an organization devoted to\\nthe suicidal task of extirpating any ability it may chance to contain,\\nby draining it away from any stratum in which it may occur, promoting\\nit into the highest, and there destroying it. it is exactly as though a\\ndairyman should set in motion apparatus for separating the cream from\\nthe milk, and then, as it rose, skim it off, and throw it away!\\n\\nat present it is calculated that the highest classes in the chief\\ncivilized societies only reproduce themselves to the extent of fifty\\nper cent. of their number in each generation, so that the hereditary\\nability of half of them is lost in each generation. but even then the\\nremainder is largely wasted. it is churned into froth and scum by\\nsocial forces. for neither now nor at any time has social intelligence\\nshown itself equal to devising a training for the youth of the highest\\nclasses that would provide them with adequate stimuli to develop their\\nfaculties, and to lead a strenuous life of social service. the children\\nof the rich are tempted to live for ‘society’ in the narrower sense,\\nwhich means frittering away one’s life on a round of vacuous amusement;\\nand they rarely resist the temptation.\\n\\nnaturally it is difficult to trace the accumulation of ability in the\\nupper social strata which is theoretically to be expected. on the other\\nhand, in some subjects at any rate, the symptoms of a world-wide\\ndearth of ability are becoming unmistakable. the great war, though it\\nmade abundantly manifest the prevalence of incompetents in high places,\\ndid not reveal the existence either of a great general or of a great\\nstatesman anywhere.\\n\\nit is superfluous to insist either on the fatuity of a social\\norganization such as this, or on the certainty of racial degeneration\\nwhich it entails: but it may be well to draw attention to the\\n_rapidity_ with which these degenerative processes are at present\\nsapping the vitality and value of our civilized races. the failure to\\nreproduce does not, as in former times, affect merely the aristocracy\\nin the highest social strata; it has spread to the whole of the\\nprofessional and middle classes, and to most classes of skilled\\nlabour. it is not too much to say that, with the exception of the\\nminers, none of the desirable elements in the nation are doing their\\nbit to keep up the population, and that its continued growth is mainly\\ndue to the unrestrained breeding of the casual labourers and the\\nfeeble-minded.\\n\\nin the rest of the population its increase is checked by birth-control\\nand the postponement of marriage, neither of which affects the\\nundesirables. they are too stupid, reckless, and ignorant to practise\\nthe former, and have nothing to gain by the latter. also, to make it\\nquite certain that they shall form a true ‘proletariate,’ the wisdom\\nof our rulers ordains that a knowledge of birth-control shall be a\\n(fatal) privilege reserved for the intelligent and well-to-do. they\\ninstruct the police to prevent it from penetrating to the poor and\\nstupid--apparently from the mistaken idea that the state needs plenty\\nof cheap labour and cheap cannon-fodder. so child-bearing remains\\ncompulsory for the wretched women of the poor, whereas elsewhere only\\nthose women produce children who desire them, and natural selection is\\nthus allowed gradually to eliminate the temperament of the unwilling\\n(and, therefore, probably less competent) mother.\\n\\nthe dysgenic effects of this class-discrimination are further\\nintensified by other tendencies: () the advance of medicine and\\nhygiene has enormously diminished selective mortality in all classes,\\nand improved the chances of weaklings to survive and leave descendants.\\n() the advance of philanthropy preserves them, especially in the lower\\nclasses, where formerly the mortality was largely selective and a high\\ndeath-rate both counteracted an excessive birth-rate and increased the\\nvalue of the survivors. the emotional appeal of ‘baby-saving’ goes so\\ndirectly to the heart of civilized man that his head never reflects\\nwhether the particular baby is worth saving, and whether a baby from a\\ndifferent breed and with a better pedigree would not be better worth\\nhaving. () modern obstetrics save the lives of thousands of women,\\nwhose physique is such that in former times they would inevitably\\nhave died in child-birth. the result is that child-birth is becoming\\nmore difficult. also babies brought up on the bottle, which has an\\nirresistible attraction for microbes of all sorts, are apt to be less\\nhealthy than those nourished in the more primitive manner.\\n\\n() lastly, the bastardizing, which used formerly to provide for a\\nconsiderable infusion of the blood of the upper classes into the lower,\\nhas now practically ceased. since the merry days of king charles\\nii, very few noble families of royal descent have been added to the\\npeerage.\\n\\n\\n\\n\\nvii\\n\\n\\nour civilization, therefore, carries within it the seeds of its own\\ndecay and destruction, and it does not require high prophetic gifts\\nto predict the future of a race which goes the way marked out for\\nit by such perversely suicidal institutions. it cannot improve, but\\nmust degenerate, and the only question would seem to be whether the\\ndecadence of man will leave him viable as a biological species. at\\npresent it looks very much as though his blind leaders would lead\\ntheir blinder followers from catastrophe to catastrophe, through\\nimperialist world-wars to class-wars and to race-wars: but even if, by\\nsome miraculous rally of human intelligence, these convulsions should\\nbe averted, the prospect will not really be improved. the violent\\ndestruction of the human race by war will only be more _dramatic_:\\nit will not be more _fatal_ than its gradual decay as its arts and\\nsciences slowly fossilize, or peter out, in an overwhelming flood of\\nfeeble-mindedness.\\n\\n\\n\\n\\nviii\\n\\n\\nthis is the one alternative. we shall get to it, if we go on as we\\nare going: but it is not our doom. the alternative is to exercise the\\ndanger by an adequate reform of human nature and of human institutions.\\nthis again seems attainable in at least two ways.\\n\\nthe first, and more paradoxical, of these would make a direct frontal\\nattack on the palæolithic yahoo, and try to bring about his moral\\nreformation. the means for this purpose are ready to hand. christian\\nethics have been in being, as a moral theory, for nearly two thousand\\nyears. if the yahoo could be really christianized, he would at any\\nrate cease to cut his own throat in cutting his neighbour’s. and it\\nis astonishing how much scientific support is forthcoming for the\\nparadoxes of christian ethics. it is an historical fact that the meek\\nhave a knack of inheriting the earth after their lords and masters\\nhave killed each other off, and that passive resistance wears out the\\ngreatest violence, and conscientious objection defeats the craftiest\\nopportunism, if only you can get enough of them. it is a biological\\nfact that the rabbit survives better than the tiger; and the same would\\nappear to be true of the human ‘rabbit’ and the nietzschean ‘wild\\nbeast.’ intrinsically, therefore, christian ethics might be well worth\\ntrying.\\n\\ni wish i could believe it likely that this policy will be tried. but\\nthe palæolithic yahoo has been dosed with christian ethics for two\\nthousand years, and they have never either impressed or improved\\nhim. their paradoxes give him a moral shock, and he has not brains\\nenough to grasp their rationality. he will exclaim rather with the\\ngallant admiral in the house of commons, when justly indignant at\\nthe unheard-of notion that a ‘moral gesture’ of a labour government\\nmight be the best policy, “good god, sir, if we are to rely for our\\nair security on the sermon on the mount, all i can say is, ‘_god help\\nus!_’” besides, the proposal to put christian principles into practice\\nwould be bitterly opposed by all the churches in christendom.[b]\\n\\nit may be more prudent, therefore, to try a safer though slower\\nway, that of the eugenical reform and reconstruction of our social\\norganization. as to the possibilities in this direction, i incline to\\nbe much more hopeful than either mr haldane or mr russell. mr haldane\\ndespises eugenics, because he is looking for the more spectacular\\nadvent of the ‘ectogenetic baby,’ to be the saviour of mankind. but he\\nmight not arrive, or be seriously delayed in transmission, or fail to\\ncome up to mr haldane’s expectations; and, meanwhile, we cannot afford\\nto wait.\\n\\nmr russell distrusts eugenics, because he fears that any eugenical\\nscheme put into practice will be ‘nobbled’ by our present ruling rings,\\nand perverted into an instrument to consolidate their power. he thinks\\nthat dissent from dominant beliefs and institutions will be taken as\\nproof of imbecility, and sterilized accordingly,[c] and that the result\\nwould merely be to spread over all the world the hopeless uniformity\\nand commonplaceness of the ideals and practice of the american business\\nman, as depicted by mr sinclair lewis.\\n\\nthis prognostication would be very plausible, if we supposed eugenics\\nto be introduced into the social structure from above, privily, and in\\nsmall doses, and by way of administrative order, as under the existing\\nacts to check the spread of feeble-mindedness.\\n\\nbut this method would be impracticable. it would not generate anything\\nlike the social momentum necessary to carry through any radical\\nreform. to make it effective, it would have to be backed by a powerful,\\nenthusiastic, and intelligent public sentiment. this presupposes that\\nthe public has been biologically educated to appreciate the actual\\nsituation, and has been thoroughly wrought up about the fatuity of our\\nsocial order, and understands what is wrong with it. if it understands\\nthat much, it can also be made to see that it is fantastic to expect\\nto leap to the ideal state by a social revolution. no one now knows\\nwhat the institutions of an ideal state would be like, nor how they\\nwould work. we only know that they will have to be evolved out of our\\npresent institutions, even as the superman has to be evolved out of the\\nprimitive yahoo. in either case, the process will be gradual, and its\\nsuccess will depend upon details, on taking one step after another at\\nthe right rate in the right direction, making a new adjustment here,\\novercoming an old difficulty there, removing obstacles, smoothing\\nover the shell-holes and scars dating from man’s lurid past, and, in\\ngeneral, feeling one’s way systematically and scientifically to better\\nthings. such a mode of progression may seem unheroic, but it has the\\ngreat advantage that it is unlikely to go irretrievably wrong. if we\\nknow from the outset that we are tentatively feeling our way, we shall\\nalways be on the look out for traps and possibilities of going astray,\\ntrying out the value of our policies by their results, and willing to\\nretrace our steps when we have made a false one.\\n\\nthe social temper, therefore, will become far more intelligent and\\nreasonable than it has been hitherto. it will be slow to dogmatize,\\nand will regard the _toleration_ of differences of opinion as among\\nthe cardinal principles of a sanely progressive social order. for\\nas we can no longer assume, with plato and the other utopians, that\\n_perfection_ may be postulated, provision has always to be made for\\nthe _improvement_ of the social order. it can never be accepted as\\nabsolutely good, but must always be regarded as capable, in principle,\\nof being bettered. even the best of established institutions are only\\ngood relatively to the alternatives to which they showed themselves\\nsuperior: under changed conditions they may become inferior, and may\\nfail us, or ruin us, if we do not make haste to transform them into\\nsomething better fitted to the new conditions. hence the social order\\nmust be _plastic_, and must never be allowed to grow rigid. there must\\nalways be room in it for experiments that have a reasonable prospect of\\nturning out to be improvements. for progress will depend on the timely\\nadoption of such novelties.\\n\\nbut society has no means of commanding them at will. it has to wait\\ntill they occur to some one. as biological variations have to arise\\nspontaneously before they can be selected, so valuable new ideas\\nhave to occur in a human mind before they can be tried and approved.\\nsociety cannot originate discoveries, it can only refrain from so\\norganizing itself as to stamp them out when they occur. it is vitally\\nnecessary, therefore, that we should beware of suppressing variations,\\nwhether of thought or of bodily endowment, that may prove to be\\nvaluable.\\n\\nalso, of course, we shall have to realize that our whole procedure is\\n_essentially experimental_, and all that this implies. we do not know,\\nat the outset, what would be the best obtainable type, either of man or\\nof society; true, but we mean to find out. nor is it unreasonable to\\nexpect to do so as we go along. we start with a pretty shrewd suspicion\\nthat certain types, say the feeble-minded, the sickly, the insane, are\\nundesirable, and that no good can come of coddling and cultivating\\nthem: we similarly are pretty sure that certain other types, say the\\nintelligent, healthy, and energetic, are inherently superior to the\\nformer. we try, therefore, to improve and increase the better types.\\nhow precisely, and how most effectively we do not quite know, though we\\ncan make pretty good preliminary guesses. so we try. that will entail\\nexperimentation in a variety of directions, with ‘control experiments,’\\nand a modicum of mistakes. but our mistakes will not be fatal, because\\nif we advance tentatively and with intelligent apprehension, we shall\\nrealize them in time, and shall not feel bound to persist in any course\\nthat yields unsatisfactory results.\\n\\nit is really one of the great advantages of eugenics that it cannot\\nproceed upon any cut-and-dried scheme, but will have to be guided by\\nthe results of experiment and the fruits of experience, each of which\\nwill be followed and discussed by an intensely interested public.\\nfor the difficulties of eugenics are all difficulties of detail,\\nand intelligent attention to detail may overcome them all. thus\\nthe dysgenical working of civilized society, which has come about\\nunintentionally through the unfortunate convergence of a number of\\ntendencies, may be altered similarly, by changing the incidence of\\nsocial forces.\\n\\n\\n\\n\\nix\\n\\n\\nif scientific eugenics can put a stop to the contra-selection\\nincidental to civilization, man will recover the plasticity and\\nthe progressiveness he once possessed, and will be able to evolve\\nfurther--in whatever direction seems to him best. we need not take\\nalarm at this possibility, for with his superior knowledge he may\\nsurely be trusted to make a better job of his evolution than the\\n_lemur_ and the _pithecanthropus_, who were our progenitors and managed\\nto evolve into modern man.\\n\\nbut the process will necessarily be a slow one, even though a\\ncomprehensive scheme of eugenics will be providing simultaneously _two_\\nsources of improvement, by the elimination of defectives at the bottom\\nof the social scale, and by the increase of ability at the top. as,\\nmoreover, time presses, and sheer destruction may overtake us before\\neugenics have made much difference, it would be highly desirable if\\nsome means could be found to accelerate the change of heart required.\\nfor this purpose, i am much less inclined to put my trust in the\\nadvance of pharmacology than mr haldane and mr russell.[d] hitherto\\nnew drugs have only meant new vices, sometimes (like cocaine) of so\\nfascinating a character as to distract the whole police force from\\ntheir proper function of repressing crime. so it seems legitimate to\\nbe very sceptical about moral transformation scenes to be wrought by\\npills and injections.\\n\\non the other hand there does seem to be a science from the possible\\nprogress of which something of a sensational kind might not\\nunreasonably be expected. it is, moreover, the science most directly\\nconcerned with affairs of this sort. psychology, the science of human\\nmentality, is, by common consent, in a deplorably backward state. it\\nhas remained a ground for metaphysical excursions and a playground for\\nthe arbitrary pedantries of classificatory systematists. its efforts\\nto become scientific have only led it to ape assumptions and to borrow\\nnotions found to be appropriate in sciences with widely different\\nproblems and objects. the results, as the psychologists themselves\\nconfess, are meagre and disappointing; which, of course, only proves\\nthat the borrowed notions are inappropriate and incapable of making\\npsychology into an effective science. but if psychologists should\\ntake it into their heads to settle down to business, to recognize\\nthe primary obligation of every science to develop methods and\\nconceptions capable of working upon its subject-matter, and so tried\\nto authenticate their ‘truth’ after the ordinary fashion of the other\\nsciences, namely by the pragmatic test of successful working, some\\nsurprising effects might be elicited even from the actual human mind.\\n\\nfor there is reason to suppose that its present organization is very\\nfar from being the best of which it is capable. it has come about in a\\nvery haphazard manner, and we are not at present making anything like\\nan adequate use of all our powers. hence by changing the gearing and\\nre-arranging the traditional coupling, so to speak, of our faculties,\\nimprovements might conceivably be wrought which would seem to us to\\nborder on the miraculous. thus a pragmatically efficient psychology\\nmight actually invert the miracle of circe, and really transform the\\nyahoo into a man.\\n\\n\\n\\n\\nx\\n\\n\\ni have endeavoured in this very summary sketch to show that the doom of\\ntantalus is by no means unconditional, and that he can save himself if\\nhe chooses, and that by no superhuman effort, but merely by recognizing\\nfacts that are right before his nose and well within his comprehension,\\nand by a little clear thinking upon their import. but i would not\\npresume to predict that he _will_ save himself: history affords no\\nunambiguous guide. it seems to show that something worse and something\\nbetter than what actually happens is always conceivable, and that\\nneither our hopes nor our fears are ever fully realized. if so, poor\\ntantalus, hoping against hope, fearing against reason, may muddle along\\nfor a good while yet, without repeating either his ancient error of\\nimagining that he could sup with the gods, or his modern folly of using\\nhis reason, as goethe’s mephistopheles declared, only to become more\\nbestial than any beast!\\n\\n\\n\\n\\nfootnotes:\\n\\n\\n[a] the most absurd perhaps was the clause, appearing in all the peace\\ntreaties, which made ‘reparations’ a first charge on all the assets of\\nthe defeated countries. this, of course, completely destroyed their\\ncredit, and incapacitated them from raising a loan, forcing them to\\nhave recourse to progressive inflation, and so into bankruptcy.\\n\\n[b] this does _not_ mean, of course, that there are no christians\\nin the churches, but only that they are not in control of these\\ninstitutions.\\n\\n[c] _icarus_, p. .\\n\\n[d] cf. _daedalus_, p. ; _icarus_, p. .\\n\\n\\n\\n\\ntranscriber’s notes:\\n\\n\\n  italicized text is surrounded by underscores: _italics_.\\n\\n  obvious typographical errors have been corrected.\\n\\n\\n\\n\\n\\n        \\n            *** end of the project gutenberg ebook tantalus ***\\n        \\n\\n    \\n\\nupdated editions will replace the previous one—the old editions will\\nbe renamed.\\n\\ncreating the works from print editions not protected by u.s. copyright\\nlaw means that no one owns a united states copyright in these works,\\nso the foundation (and you!) can copy and distribute it in the united\\nstates without permission and without paying copyright\\nroyalties. special rules, set forth in the general terms of use part\\nof this license, apply to copying and distributing project\\ngutenberg™ electronic works to protect the project gutenberg™\\nconcept and trademark. project gutenberg is a registered trademark,\\nand may not be used if you charge for an ebook, except by following\\nthe terms of the trademark license, including paying royalties for use\\nof the project gutenberg trademark. if you do not charge anything for\\ncopies of this ebook, complying with the trademark license is very\\neasy. you may use this ebook for nearly any purpose such as creation\\nof derivative works, reports, performances and research. project\\ngutenberg ebooks may be modified and printed and given away—you may\\ndo practically anything in the united states with ebooks not protected\\nby u.s. copyright law. redistribution is subject to the trademark\\nlicense, especially commercial redistribution.\\n\\n\\nstart: full license\\n\\nthe full project gutenberg license\\n\\nplease read this before you distribute or use this work\\n\\nto protect the project gutenberg™ mission of promoting the free\\ndistribution of electronic works, by using or distributing this work\\n(or any other work associated in any way with the phrase “project\\ngutenberg”), you agree to comply with all the terms of the full\\nproject gutenberg™ license available with this file or online at\\nwww.gutenberg.org/license.\\n\\nsection . general terms of use and redistributing project gutenberg™\\nelectronic works\\n\\n.a. by reading or using any part of this project gutenberg™\\nelectronic work, you indicate that you have read, understand, agree to\\nand accept all the terms of this license and intellectual property\\n(trademark/copyright) agreement. if you do not agree to abide by all\\nthe terms of this agreement, you must cease using and return or\\ndestroy all copies of project gutenberg™ electronic works in your\\npossession. if you paid a fee for obtaining a copy of or access to a\\nproject gutenberg™ electronic work and you do not agree to be bound\\nby the terms of this agreement, you may obtain a refund from the person\\nor entity to whom you paid the fee as set forth in paragraph .e..\\n\\n.b. “project gutenberg” is a registered trademark. it may only be\\nused on or associated in any way with an electronic work by people who\\nagree to be bound by the terms of this agreement. there are a few\\nthings that you can do with most project gutenberg™ electronic works\\neven without complying with the full terms of this agreement. see\\nparagraph .c below. there are a lot of things you can do with project\\ngutenberg™ electronic works if you follow the terms of this\\nagreement and help preserve free future access to project gutenberg™\\nelectronic works. see paragraph .e below.\\n\\n.c. the project gutenberg literary archive foundation (“the\\nfoundation” or pglaf), owns a compilation copyright in the collection\\nof project gutenberg™ electronic works. nearly all the individual\\nworks in the collection are in the public domain in the united\\nstates. if an individual work is unprotected by copyright law in the\\nunited states and you are located in the united states, we do not\\nclaim a right to prevent you from copying, distributing, performing,\\ndisplaying or creating derivative works based on the work as long as\\nall references to project gutenberg are removed. of course, we hope\\nthat you will support the project gutenberg™ mission of promoting\\nfree access to electronic works by freely sharing project gutenberg™\\nworks in compliance with the terms of this agreement for keeping the\\nproject gutenberg™ name associated with the work. you can easily\\ncomply with the terms of this agreement by keeping this work in the\\nsame format with its attached full project gutenberg™ license when\\nyou share it without charge with others.\\n\\n.d. the copyright laws of the place where you are located also govern\\nwhat you can do with this work. copyright laws in most countries are\\nin a constant state of change. if you are outside the united states,\\ncheck the laws of your country in addition to the terms of this\\nagreement before downloading, copying, displaying, performing,\\ndistributing or creating derivative works based on this work or any\\nother project gutenberg™ work. the foundation makes no\\nrepresentations concerning the copyright status of any work in any\\ncountry other than the united states.\\n\\n.e. unless you have removed all references to project gutenberg:\\n\\n.e.. the following sentence, with active links to, or other\\nimmediate access to, the full project gutenberg™ license must appear\\nprominently whenever any copy of a project gutenberg™ work (any work\\non which the phrase “project gutenberg” appears, or with which the\\nphrase “project gutenberg” is associated) is accessed, displayed,\\nperformed, viewed, copied or distributed:\\n\\n    this ebook is for the use of anyone anywhere in the united states and most\\n    other parts of the world at no cost and with almost no restrictions\\n    whatsoever. you may copy it, give it away or re-use it under the terms\\n    of the project gutenberg license included with this ebook or online\\n    at www.gutenberg.org. if you\\n    are not located in the united states, you will have to check the laws\\n    of the country where you are located before using this ebook.\\n  \\n.e.. if an individual project gutenberg™ electronic work is\\nderived from texts not protected by u.s. copyright law (does not\\ncontain a notice indicating that it is posted with permission of the\\ncopyright holder), the work can be copied and distributed to anyone in\\nthe united states without paying any fees or charges. if you are\\nredistributing or providing access to a work with the phrase “project\\ngutenberg” associated with or appearing on the work, you must comply\\neither with the requirements of paragraphs .e. through .e. or\\nobtain permission for the use of the work and the project gutenberg™\\ntrademark as set forth in paragraphs .e. or .e..\\n\\n.e.. if an individual project gutenberg™ electronic work is posted\\nwith the permission of the copyright holder, your use and distribution\\nmust comply with both paragraphs .e. through .e. and any\\nadditional terms imposed by the copyright holder. additional terms\\nwill be linked to the project gutenberg™ license for all works\\nposted with the permission of the copyright holder found at the\\nbeginning of this work.\\n\\n.e.. do not unlink or detach or remove the full project gutenberg™\\nlicense terms from this work, or any files containing a part of this\\nwork or any other work associated with project gutenberg™.\\n\\n.e.. do not copy, display, perform, distribute or redistribute this\\nelectronic work, or any part of this electronic work, without\\nprominently displaying the sentence set forth in paragraph .e. with\\nactive links or immediate access to the full terms of the project\\ngutenberg™ license.\\n\\n.e.. you may convert to and distribute this work in any binary,\\ncompressed, marked up, nonproprietary or proprietary form, including\\nany word processing or hypertext form. however, if you provide access\\nto or distribute copies of a project gutenberg™ work in a format\\nother than “plain vanilla ascii” or other format used in the official\\nversion posted on the official project gutenberg™ website\\n(www.gutenberg.org), you must, at no additional cost, fee or expense\\nto the user, provide a copy, a means of exporting a copy, or a means\\nof obtaining a copy upon request, of the work in its original “plain\\nvanilla ascii” or other form. any alternate format must include the\\nfull project gutenberg™ license as specified in paragraph .e..\\n\\n.e.. do not charge a fee for access to, viewing, displaying,\\nperforming, copying or distributing any project gutenberg™ works\\nunless you comply with paragraph .e. or .e..\\n\\n.e.. you may charge a reasonable fee for copies of or providing\\naccess to or distributing project gutenberg™ electronic works\\nprovided that:\\n\\n    • you pay a royalty fee of % of the gross profits you derive from\\n        the use of project gutenberg™ works calculated using the method\\n        you already use to calculate your applicable taxes. the fee is owed\\n        to the owner of the project gutenberg™ trademark, but he has\\n        agreed to donate royalties under this paragraph to the project\\n        gutenberg literary archive foundation. royalty payments must be paid\\n        within  days following each date on which you prepare (or are\\n        legally required to prepare) your periodic tax returns. royalty\\n        payments should be clearly marked as such and sent to the project\\n        gutenberg literary archive foundation at the address specified in\\n        section , “information about donations to the project gutenberg\\n        literary archive foundation.”\\n    \\n    • you provide a full refund of any money paid by a user who notifies\\n        you in writing (or by e-mail) within  days of receipt that s/he\\n        does not agree to the terms of the full project gutenberg™\\n        license. you must require such a user to return or destroy all\\n        copies of the works possessed in a physical medium and discontinue\\n        all use of and all access to other copies of project gutenberg™\\n        works.\\n    \\n    • you provide, in accordance with paragraph .f., a full refund of\\n        any money paid for a work or a replacement copy, if a defect in the\\n        electronic work is discovered and reported to you within  days of\\n        receipt of the work.\\n    \\n    • you comply with all other terms of this agreement for free\\n        distribution of project gutenberg™ works.\\n    \\n\\n.e.. if you wish to charge a fee or distribute a project\\ngutenberg™ electronic work or group of works on different terms than\\nare set forth in this agreement, you must obtain permission in writing\\nfrom the project gutenberg literary archive foundation, the manager of\\nthe project gutenberg™ trademark. contact the foundation as set\\nforth in section  below.\\n\\n.f.\\n\\n.f.. project gutenberg volunteers and employees expend considerable\\neffort to identify, do copyright research on, transcribe and proofread\\nworks not protected by u.s. copyright law in creating the project\\ngutenberg™ collection. despite these efforts, project gutenberg™\\nelectronic works, and the medium on which they may be stored, may\\ncontain “defects,” such as, but not limited to, incomplete, inaccurate\\nor corrupt data, transcription errors, a copyright or other\\nintellectual property infringement, a defective or damaged disk or\\nother medium, a computer virus, or computer codes that damage or\\ncannot be read by your equipment.\\n\\n.f.. limited warranty, disclaimer of damages - except for the “right\\nof replacement or refund” described in paragraph .f., the project\\ngutenberg literary archive foundation, the owner of the project\\ngutenberg™ trademark, and any other party distributing a project\\ngutenberg™ electronic work under this agreement, disclaim all\\nliability to you for damages, costs and expenses, including legal\\nfees. you agree that you have no remedies for negligence, strict\\nliability, breach of warranty or breach of contract except those\\nprovided in paragraph .f.. you agree that the foundation, the\\ntrademark owner, and any distributor under this agreement will not be\\nliable to you for actual, direct, indirect, consequential, punitive or\\nincidental damages even if you give notice of the possibility of such\\ndamage.\\n\\n.f.. limited right of replacement or refund - if you discover a\\ndefect in this electronic work within  days of receiving it, you can\\nreceive a refund of the money (if any) you paid for it by sending a\\nwritten explanation to the person you received the work from. if you\\nreceived the work on a physical medium, you must return the medium\\nwith your written explanation. the person or entity that provided you\\nwith the defective work may elect to provide a replacement copy in\\nlieu of a refund. if you received the work electronically, the person\\nor entity providing it to you may choose to give you a second\\nopportunity to receive the work electronically in lieu of a refund. if\\nthe second copy is also defective, you may demand a refund in writing\\nwithout further opportunities to fix the problem.\\n\\n.f.. except for the limited right of replacement or refund set forth\\nin paragraph .f., this work is provided to you ‘as-is’, with no\\nother warranties of any kind, express or implied, including but not\\nlimited to warranties of merchantability or fitness for any purpose.\\n\\n.f.. some states do not allow disclaimers of certain implied\\nwarranties or the exclusion or limitation of certain types of\\ndamages. if any disclaimer or limitation set forth in this agreement\\nviolates the law of the state applicable to this agreement, the\\nagreement shall be interpreted to make the maximum disclaimer or\\nlimitation permitted by the applicable state law. the invalidity or\\nunenforceability of any provision of this agreement shall not void the\\nremaining provisions.\\n\\n.f.. indemnity - you agree to indemnify and hold the foundation, the\\ntrademark owner, any agent or employee of the foundation, anyone\\nproviding copies of project gutenberg™ electronic works in\\naccordance with this agreement, and any volunteers associated with the\\nproduction, promotion and distribution of project gutenberg™\\nelectronic works, harmless from all liability, costs and expenses,\\nincluding legal fees, that arise directly or indirectly from any of\\nthe following which you do or cause to occur: (a) distribution of this\\nor any project gutenberg™ work, (b) alteration, modification, or\\nadditions or deletions to any project gutenberg™ work, and (c) any\\ndefect you cause.\\n\\nsection . information about the mission of project gutenberg™\\n\\nproject gutenberg™ is synonymous with the free distribution of\\nelectronic works in formats readable by the widest variety of\\ncomputers including obsolete, old, middle-aged and new computers. it\\nexists because of the efforts of hundreds of volunteers and donations\\nfrom people in all walks of life.\\n\\nvolunteers and financial support to provide volunteers with the\\nassistance they need are critical to reaching project gutenberg™’s\\ngoals and ensuring that the project gutenberg™ collection will\\nremain freely available for generations to come. in , the project\\ngutenberg literary archive foundation was created to provide a secure\\nand permanent future for project gutenberg™ and future\\ngenerations. to learn more about the project gutenberg literary\\narchive foundation and how your efforts and donations can help, see\\nsections  and  and the foundation information page at www.gutenberg.org.\\n\\nsection . information about the project gutenberg literary archive foundation\\n\\nthe project gutenberg literary archive foundation is a non-profit\\n(c)() educational corporation organized under the laws of the\\nstate of mississippi and granted tax exempt status by the internal\\nrevenue service. the foundation’s ein or federal tax identification\\nnumber is -. contributions to the project gutenberg literary\\narchive foundation are tax deductible to the full extent permitted by\\nu.s. federal laws and your state’s laws.\\n\\nthe foundation’s business office is located at  north  west,\\nsalt lake city, ut , () -. email contact links and up\\nto date contact information can be found at the foundation’s website\\nand official page at www.gutenberg.org/contact\\n\\nsection . information about donations to the project gutenberg\\nliterary archive foundation\\n\\nproject gutenberg™ depends upon and cannot survive without widespread\\npublic support and donations to carry out its mission of\\nincreasing the number of public domain and licensed works that can be\\nfreely distributed in machine-readable form accessible by the widest\\narray of equipment including outdated equipment. many small donations\\n($ to $,) are particularly important to maintaining tax exempt\\nstatus with the irs.\\n\\nthe foundation is committed to complying with the laws regulating\\ncharities and charitable donations in all  states of the united\\nstates. compliance requirements are not uniform and it takes a\\nconsiderable effort, much paperwork and many fees to meet and keep up\\nwith these requirements. we do not solicit donations in locations\\nwhere we have not received written confirmation of compliance. to send\\ndonations or determine the status of compliance for any particular state\\nvisit www.gutenberg.org/donate.\\n\\nwhile we cannot and do not solicit contributions from states where we\\nhave not met the solicitation requirements, we know of no prohibition\\nagainst accepting unsolicited donations from donors in such states who\\napproach us with offers to donate.\\n\\ninternational donations are gratefully accepted, but we cannot make\\nany statements concerning tax treatment of donations received from\\noutside the united states. u.s. laws alone swamp our small staff.\\n\\nplease check the project gutenberg web pages for current donation\\nmethods and addresses. donations are accepted in a number of other\\nways including checks, online payments and credit card donations. to\\ndonate, please visit: www.gutenberg.org/donate.\\n\\nsection . general information about project gutenberg™ electronic works\\n\\nprofessor michael s. hart was the originator of the project\\ngutenberg™ concept of a library of electronic works that could be\\nfreely shared with anyone. for forty years, he produced and\\ndistributed project gutenberg™ ebooks with only a loose network of\\nvolunteer support.\\n\\nproject gutenberg™ ebooks are often created from several printed\\neditions, all of which are confirmed as not protected by copyright in\\nthe u.s. unless a copyright notice is included. thus, we do not\\nnecessarily keep ebooks in compliance with any particular paper\\nedition.\\n\\nmost people start at our website which has the main pg search\\nfacility: www.gutenberg.org.\\n\\nthis website includes information about project gutenberg™,\\nincluding how to make donations to the project gutenberg literary\\narchive foundation, how to help produce our new ebooks, and how to\\nsubscribe to our email newsletter to hear about new ebooks.\\n\\n\\n'"
            ],
            "application/vnd.google.colaboratory.intrinsic+json": {
              "type": "string"
            }
          },
          "metadata": {},
          "execution_count": 3
        }
      ],
      "source": [
        "data = open('data.txt','r',encoding=\"utf-8\").read()\n",
        "data = data.lower()\n",
        "data = ''.join([i for i in data if not i.isdigit()])\n",
        "data"
      ]
    },
    {
      "cell_type": "code",
      "execution_count": 4,
      "metadata": {
        "colab": {
          "base_uri": "https://localhost:8080/"
        },
        "id": "u0L2mgsQ4c4Z",
        "outputId": "48321aa5-8755-4b3e-9951-a822446f05c9"
      },
      "outputs": [
        {
          "output_type": "execute_result",
          "data": {
            "text/plain": [
              "55"
            ]
          },
          "metadata": {},
          "execution_count": 4
        }
      ],
      "source": [
        "chars = sorted(list(set(data)))\n",
        "chars.__len__()"
      ]
    },
    {
      "cell_type": "code",
      "execution_count": 5,
      "metadata": {
        "id": "jUc_Vm254c4Z"
      },
      "outputs": [],
      "source": [
        "char_to_int = dict((c,i) for i,c in enumerate(chars))"
      ]
    },
    {
      "cell_type": "code",
      "execution_count": 6,
      "metadata": {
        "id": "G6fh6ckb4c4Z"
      },
      "outputs": [],
      "source": [
        "int_to_char = dict((i,c) for i,c in enumerate(chars))"
      ]
    },
    {
      "cell_type": "code",
      "execution_count": 7,
      "metadata": {
        "colab": {
          "base_uri": "https://localhost:8080/"
        },
        "id": "DKWB8fJK4c4a",
        "outputId": "040b12ac-2ed2-4c35-e9f4-2a5d671ec8d3"
      },
      "outputs": [
        {
          "output_type": "stream",
          "name": "stdout",
          "text": [
            "66030\n"
          ]
        }
      ],
      "source": [
        "print(len(data))"
      ]
    },
    {
      "cell_type": "code",
      "execution_count": 8,
      "metadata": {
        "colab": {
          "base_uri": "https://localhost:8080/"
        },
        "id": "CWUlUcUj4c4a",
        "outputId": "5bfb281f-c2cd-48a3-d9cb-6ef9f21c04f2"
      },
      "outputs": [
        {
          "output_type": "stream",
          "name": "stdout",
          "text": [
            "13194\n"
          ]
        }
      ],
      "source": [
        "seq=60\n",
        "step=5\n",
        "sentence=[]\n",
        "next_char=[]\n",
        "for i in range(0,len(data)-seq,step):\n",
        "    sentence.append(data[i:i+seq])\n",
        "    next_char.append(data[i+seq])\n",
        "print(len(sentence))"
      ]
    },
    {
      "cell_type": "code",
      "execution_count": 9,
      "metadata": {
        "colab": {
          "base_uri": "https://localhost:8080/"
        },
        "id": "sthiFgHO4c4a",
        "outputId": "25af4d2a-48ef-4e94-dcbb-f1a61e4b0ec7"
      },
      "outputs": [
        {
          "output_type": "stream",
          "name": "stdout",
          "text": [
            "(13194, 60, 55)\n",
            "(13194, 55)\n"
          ]
        },
        {
          "output_type": "execute_result",
          "data": {
            "text/plain": [
              "55"
            ]
          },
          "metadata": {},
          "execution_count": 9
        }
      ],
      "source": [
        "x=np.zeros((len(sentence),seq,len(chars)),dtype=bool)\n",
        "y=np.zeros((len(sentence),len(chars)),dtype=bool)\n",
        "for i,sent in enumerate(sentence):\n",
        "    for j,char in enumerate(sent):\n",
        "        x[i,j,char_to_int[char]]=1\n",
        "    y[i,char_to_int[next_char[i]]]=1\n",
        "print(x.shape)\n",
        "print(y.shape)\n",
        "a=len(chars)\n",
        "a"
      ]
    },
    {
      "cell_type": "code",
      "execution_count": null,
      "metadata": {
        "id": "fBQeGgx84c4b"
      },
      "outputs": [],
      "source": []
    },
    {
      "cell_type": "code",
      "execution_count": null,
      "metadata": {
        "id": "JE_9HY6q4c4b",
        "outputId": "03579c1a-efa5-4892-f2f9-0ef191fda5bf"
      },
      "outputs": [
        {
          "data": {
            "text/plain": [
              "'2.15.0'"
            ]
          },
          "execution_count": 12,
          "metadata": {},
          "output_type": "execute_result"
        }
      ],
      "source": [
        "import keras as k\n",
        "k.__version__"
      ]
    },
    {
      "cell_type": "code",
      "execution_count": 10,
      "metadata": {
        "colab": {
          "base_uri": "https://localhost:8080/"
        },
        "id": "dR4F6ige4c4c",
        "outputId": "aec1e90b-2189-4a0b-b2c1-8704ec841dac"
      },
      "outputs": [
        {
          "output_type": "stream",
          "name": "stderr",
          "text": [
            "WARNING:absl:`lr` is deprecated in Keras optimizer, please use `learning_rate` or use the legacy optimizer, e.g.,tf.keras.optimizers.legacy.RMSprop.\n"
          ]
        },
        {
          "output_type": "stream",
          "name": "stdout",
          "text": [
            "Model: \"sequential\"\n",
            "_________________________________________________________________\n",
            " Layer (type)                Output Shape              Param #   \n",
            "=================================================================\n",
            " lstm (LSTM)                 (None, 128)               94208     \n",
            "                                                                 \n",
            " dense (Dense)               (None, 55)                7095      \n",
            "                                                                 \n",
            "=================================================================\n",
            "Total params: 101303 (395.71 KB)\n",
            "Trainable params: 101303 (395.71 KB)\n",
            "Non-trainable params: 0 (0.00 Byte)\n",
            "_________________________________________________________________\n"
          ]
        }
      ],
      "source": [
        "\n",
        "model=Sequential()\n",
        "model.add(LSTM(128,input_shape=(seq,a)))\n",
        "model.add(Dense(a,activation='softmax'))\n",
        "model.compile(loss='categorical_crossentropy',optimizer=RMSprop(lr=0.01))\n",
        "model.summary()\n"
      ]
    },
    {
      "cell_type": "code",
      "execution_count": null,
      "metadata": {
        "id": "jydxDYZt4c4c",
        "outputId": "2e6a8aab-e5c3-4408-a176-cee24bd39f0f"
      },
      "outputs": [
        {
          "data": {
            "text/plain": [
              "(13194, 60, 55)"
            ]
          },
          "execution_count": 20,
          "metadata": {},
          "output_type": "execute_result"
        }
      ],
      "source": []
    },
    {
      "cell_type": "code",
      "execution_count": 11,
      "metadata": {
        "colab": {
          "base_uri": "https://localhost:8080/"
        },
        "id": "64q0R9cR4c4c",
        "outputId": "51d12371-622e-4643-e688-cf5e86f75932"
      },
      "outputs": [
        {
          "output_type": "stream",
          "name": "stdout",
          "text": [
            "Epoch 1/100\n",
            "104/104 [==============================] - 24s 211ms/step - loss: 3.0725\n",
            "Epoch 2/100\n",
            "104/104 [==============================] - 19s 184ms/step - loss: 2.9616\n",
            "Epoch 3/100\n",
            "104/104 [==============================] - 20s 193ms/step - loss: 2.8880\n",
            "Epoch 4/100\n",
            "104/104 [==============================] - 21s 201ms/step - loss: 2.7879\n",
            "Epoch 5/100\n",
            "104/104 [==============================] - 19s 185ms/step - loss: 2.6870\n",
            "Epoch 6/100\n",
            "104/104 [==============================] - 20s 197ms/step - loss: 2.6086\n",
            "Epoch 7/100\n",
            "104/104 [==============================] - 21s 202ms/step - loss: 2.5528\n",
            "Epoch 8/100\n",
            "104/104 [==============================] - 20s 188ms/step - loss: 2.5092\n",
            "Epoch 9/100\n",
            "104/104 [==============================] - 21s 204ms/step - loss: 2.4753\n",
            "Epoch 10/100\n",
            "104/104 [==============================] - 20s 192ms/step - loss: 2.4433\n",
            "Epoch 11/100\n",
            "104/104 [==============================] - 19s 187ms/step - loss: 2.4173\n",
            "Epoch 12/100\n",
            "104/104 [==============================] - 21s 207ms/step - loss: 2.3933\n",
            "Epoch 13/100\n",
            "104/104 [==============================] - 19s 186ms/step - loss: 2.3702\n",
            "Epoch 14/100\n",
            "104/104 [==============================] - 20s 189ms/step - loss: 2.3503\n",
            "Epoch 15/100\n",
            "104/104 [==============================] - 22s 207ms/step - loss: 2.3302\n",
            "Epoch 16/100\n",
            "104/104 [==============================] - 20s 189ms/step - loss: 2.3125\n",
            "Epoch 17/100\n",
            "104/104 [==============================] - 19s 187ms/step - loss: 2.2950\n",
            "Epoch 18/100\n",
            "104/104 [==============================] - 21s 204ms/step - loss: 2.2792\n",
            "Epoch 19/100\n",
            "104/104 [==============================] - 19s 186ms/step - loss: 2.2622\n",
            "Epoch 20/100\n",
            "104/104 [==============================] - 19s 187ms/step - loss: 2.2455\n",
            "Epoch 21/100\n",
            "104/104 [==============================] - 21s 203ms/step - loss: 2.2316\n",
            "Epoch 22/100\n",
            "104/104 [==============================] - 20s 188ms/step - loss: 2.2190\n",
            "Epoch 23/100\n",
            "104/104 [==============================] - 20s 190ms/step - loss: 2.2047\n",
            "Epoch 24/100\n",
            "104/104 [==============================] - 21s 199ms/step - loss: 2.1913\n",
            "Epoch 25/100\n",
            "104/104 [==============================] - 19s 186ms/step - loss: 2.1770\n",
            "Epoch 26/100\n",
            "104/104 [==============================] - 20s 190ms/step - loss: 2.1650\n",
            "Epoch 27/100\n",
            "104/104 [==============================] - 21s 198ms/step - loss: 2.1534\n",
            "Epoch 28/100\n",
            "104/104 [==============================] - 19s 185ms/step - loss: 2.1410\n",
            "Epoch 29/100\n",
            "104/104 [==============================] - 20s 191ms/step - loss: 2.1301\n",
            "Epoch 30/100\n",
            "104/104 [==============================] - 21s 200ms/step - loss: 2.1174\n",
            "Epoch 31/100\n",
            "104/104 [==============================] - 19s 186ms/step - loss: 2.1061\n",
            "Epoch 32/100\n",
            "104/104 [==============================] - 23s 221ms/step - loss: 2.0929\n",
            "Epoch 33/100\n",
            "104/104 [==============================] - 21s 198ms/step - loss: 2.0830\n",
            "Epoch 34/100\n",
            "104/104 [==============================] - 20s 189ms/step - loss: 2.0718\n",
            "Epoch 35/100\n",
            "104/104 [==============================] - 19s 186ms/step - loss: 2.0608\n",
            "Epoch 36/100\n",
            "104/104 [==============================] - 20s 195ms/step - loss: 2.0505\n",
            "Epoch 37/100\n",
            "104/104 [==============================] - 20s 195ms/step - loss: 2.0390\n",
            "Epoch 38/100\n",
            "104/104 [==============================] - 20s 188ms/step - loss: 2.0295\n",
            "Epoch 39/100\n",
            "104/104 [==============================] - 21s 197ms/step - loss: 2.0206\n",
            "Epoch 40/100\n",
            "104/104 [==============================] - 20s 190ms/step - loss: 2.0088\n",
            "Epoch 41/100\n",
            "104/104 [==============================] - 19s 184ms/step - loss: 1.9992\n",
            "Epoch 42/100\n",
            "104/104 [==============================] - 20s 193ms/step - loss: 1.9890\n",
            "Epoch 43/100\n",
            "104/104 [==============================] - 20s 194ms/step - loss: 1.9785\n",
            "Epoch 44/100\n",
            "104/104 [==============================] - 19s 185ms/step - loss: 1.9685\n",
            "Epoch 45/100\n",
            "104/104 [==============================] - 20s 193ms/step - loss: 1.9569\n",
            "Epoch 46/100\n",
            "104/104 [==============================] - 20s 195ms/step - loss: 1.9499\n",
            "Epoch 47/100\n",
            "104/104 [==============================] - 19s 186ms/step - loss: 1.9403\n",
            "Epoch 48/100\n",
            "104/104 [==============================] - 20s 196ms/step - loss: 1.9294\n",
            "Epoch 49/100\n",
            "104/104 [==============================] - 20s 195ms/step - loss: 1.9205\n",
            "Epoch 50/100\n",
            "104/104 [==============================] - 19s 185ms/step - loss: 1.9106\n",
            "Epoch 51/100\n",
            "104/104 [==============================] - 20s 194ms/step - loss: 1.9033\n",
            "Epoch 52/100\n",
            "104/104 [==============================] - 20s 195ms/step - loss: 1.8931\n",
            "Epoch 53/100\n",
            "104/104 [==============================] - 19s 187ms/step - loss: 1.8840\n",
            "Epoch 54/100\n",
            "104/104 [==============================] - 20s 194ms/step - loss: 1.8769\n",
            "Epoch 55/100\n",
            "104/104 [==============================] - 23s 221ms/step - loss: 1.8671\n",
            "Epoch 56/100\n",
            "104/104 [==============================] - 20s 188ms/step - loss: 1.8580\n",
            "Epoch 57/100\n",
            "104/104 [==============================] - 20s 189ms/step - loss: 1.8476\n",
            "Epoch 58/100\n",
            "104/104 [==============================] - 21s 198ms/step - loss: 1.8395\n",
            "Epoch 59/100\n",
            "104/104 [==============================] - 19s 186ms/step - loss: 1.8307\n",
            "Epoch 60/100\n",
            "104/104 [==============================] - 20s 188ms/step - loss: 1.8212\n",
            "Epoch 61/100\n",
            "104/104 [==============================] - 21s 199ms/step - loss: 1.8139\n",
            "Epoch 62/100\n",
            "104/104 [==============================] - 19s 185ms/step - loss: 1.8047\n",
            "Epoch 63/100\n",
            "104/104 [==============================] - 19s 186ms/step - loss: 1.7968\n",
            "Epoch 64/100\n",
            "104/104 [==============================] - 21s 200ms/step - loss: 1.7863\n",
            "Epoch 65/100\n",
            "104/104 [==============================] - 19s 184ms/step - loss: 1.7781\n",
            "Epoch 66/100\n",
            "104/104 [==============================] - 19s 183ms/step - loss: 1.7706\n",
            "Epoch 67/100\n",
            "104/104 [==============================] - 21s 204ms/step - loss: 1.7613\n",
            "Epoch 68/100\n",
            "104/104 [==============================] - 19s 186ms/step - loss: 1.7530\n",
            "Epoch 69/100\n",
            "104/104 [==============================] - 19s 183ms/step - loss: 1.7431\n",
            "Epoch 70/100\n",
            "104/104 [==============================] - 21s 205ms/step - loss: 1.7363\n",
            "Epoch 71/100\n",
            "104/104 [==============================] - 19s 184ms/step - loss: 1.7276\n",
            "Epoch 72/100\n",
            "104/104 [==============================] - 19s 184ms/step - loss: 1.7165\n",
            "Epoch 73/100\n",
            "104/104 [==============================] - 21s 203ms/step - loss: 1.7109\n",
            "Epoch 74/100\n",
            "104/104 [==============================] - 19s 186ms/step - loss: 1.7006\n",
            "Epoch 75/100\n",
            "104/104 [==============================] - 19s 184ms/step - loss: 1.6922\n",
            "Epoch 76/100\n",
            "104/104 [==============================] - 21s 204ms/step - loss: 1.6836\n",
            "Epoch 77/100\n",
            "104/104 [==============================] - 19s 185ms/step - loss: 1.6774\n",
            "Epoch 78/100\n",
            "104/104 [==============================] - 19s 184ms/step - loss: 1.6661\n",
            "Epoch 79/100\n",
            "104/104 [==============================] - 25s 242ms/step - loss: 1.6575\n",
            "Epoch 80/100\n",
            "104/104 [==============================] - 21s 199ms/step - loss: 1.6485\n",
            "Epoch 81/100\n",
            "104/104 [==============================] - 19s 183ms/step - loss: 1.6395\n",
            "Epoch 82/100\n",
            "104/104 [==============================] - 19s 187ms/step - loss: 1.6295\n",
            "Epoch 83/100\n",
            "104/104 [==============================] - 21s 202ms/step - loss: 1.6215\n",
            "Epoch 84/100\n",
            "104/104 [==============================] - 19s 182ms/step - loss: 1.6154\n",
            "Epoch 85/100\n",
            "104/104 [==============================] - 19s 186ms/step - loss: 1.6038\n",
            "Epoch 86/100\n",
            "104/104 [==============================] - 21s 200ms/step - loss: 1.5954\n",
            "Epoch 87/100\n",
            "104/104 [==============================] - 19s 183ms/step - loss: 1.5859\n",
            "Epoch 88/100\n",
            "104/104 [==============================] - 19s 184ms/step - loss: 1.5754\n",
            "Epoch 89/100\n",
            "104/104 [==============================] - 21s 201ms/step - loss: 1.5691\n",
            "Epoch 90/100\n",
            "104/104 [==============================] - 19s 183ms/step - loss: 1.5603\n",
            "Epoch 91/100\n",
            "104/104 [==============================] - 19s 183ms/step - loss: 1.5522\n",
            "Epoch 92/100\n",
            "104/104 [==============================] - 21s 204ms/step - loss: 1.5399\n",
            "Epoch 93/100\n",
            "104/104 [==============================] - 19s 183ms/step - loss: 1.5319\n",
            "Epoch 94/100\n",
            "104/104 [==============================] - 19s 184ms/step - loss: 1.5239\n",
            "Epoch 95/100\n",
            "104/104 [==============================] - 21s 202ms/step - loss: 1.5146\n",
            "Epoch 96/100\n",
            "104/104 [==============================] - 19s 183ms/step - loss: 1.5036\n",
            "Epoch 97/100\n",
            "104/104 [==============================] - 19s 182ms/step - loss: 1.4926\n",
            "Epoch 98/100\n",
            "104/104 [==============================] - 21s 201ms/step - loss: 1.4880\n",
            "Epoch 99/100\n",
            "104/104 [==============================] - 19s 183ms/step - loss: 1.4769\n",
            "Epoch 100/100\n",
            "104/104 [==============================] - 19s 182ms/step - loss: 1.4681\n"
          ]
        },
        {
          "output_type": "execute_result",
          "data": {
            "text/plain": [
              "<keras.src.callbacks.History at 0x7e5781976410>"
            ]
          },
          "metadata": {},
          "execution_count": 11
        }
      ],
      "source": [
        "model.fit(x,y,batch_size=128,epochs=100)"
      ]
    },
    {
      "cell_type": "code",
      "execution_count": 12,
      "metadata": {
        "id": "XURzpBCE4c4d"
      },
      "outputs": [],
      "source": [
        "def sample(preds,temperature=1.0):\n",
        "    preds=np.asarray(preds).astype('float64')\n",
        "    preds=np.log(preds)/temperature\n",
        "    exp_preds=np.exp(preds)\n",
        "    preds=exp_preds/np.sum(exp_preds)\n",
        "    probas=np.random.multinomial(1,preds,1)\n",
        "    return np.argmax(probas)"
      ]
    },
    {
      "cell_type": "code",
      "execution_count": 16,
      "metadata": {
        "id": "lVCINYOJ4c4d"
      },
      "outputs": [],
      "source": [
        "generated=''\n",
        "start_index=random.randint(0,len(data)-seq-1)\n",
        "sentence=data[start_index:start_index+seq]\n",
        "generated+=sentence\n",
        "generated\n",
        "generated=\"how are you\""
      ]
    },
    {
      "cell_type": "code",
      "execution_count": 17,
      "metadata": {
        "colab": {
          "base_uri": "https://localhost:8080/"
        },
        "id": "LWoYQb3f4c4d",
        "outputId": "efecf6a0-677e-4e24-c771-b13763d57ff5"
      },
      "outputs": [
        {
          "output_type": "stream",
          "name": "stdout",
          "text": [
            "statly be the eastions of charated promeden suan on andere\n",
            "the fullogreng with statutend. the aplanedes.\n",
            "\n",
            "can mo the oriag provided the hivalled promations be the condical to bus or project gutenberg™ collect on the cound the wall all with the form the theremedt and and man encorate and continte beation of this mawners.\n",
            "\n",
            "this agreetend\n",
            "by ulice form\n",
            "andiselicilite, his out not entern and that has \n"
          ]
        }
      ],
      "source": [
        "for i in range(400):\n",
        "    x_pred=np.zeros((1,seq,len(chars)))\n",
        "    for j,char in enumerate(sentence):\n",
        "        x_pred[0,j,char_to_int[char]]=1\n",
        "    preds=model.predict(x_pred,verbose=0)[0]\n",
        "    next_index=sample(preds,0.5)\n",
        "    next_char=int_to_char[next_index]\n",
        "    generated+=next_char\n",
        "    sentence=sentence[1:]+next_char\n",
        "    sys.stdout.write(next_char)\n",
        "    sys.stdout.flush()\n",
        "print()"
      ]
    },
    {
      "cell_type": "code",
      "execution_count": null,
      "metadata": {
        "id": "qyoMl9T04c4e"
      },
      "outputs": [],
      "source": []
    }
  ],
  "metadata": {
    "kernelspec": {
      "display_name": "Python 3",
      "language": "python",
      "name": "python3"
    },
    "language_info": {
      "codemirror_mode": {
        "name": "ipython",
        "version": 3
      },
      "file_extension": ".py",
      "mimetype": "text/x-python",
      "name": "python",
      "nbconvert_exporter": "python",
      "pygments_lexer": "ipython3",
      "version": "3.11.6"
    },
    "colab": {
      "provenance": [],
      "include_colab_link": true
    }
  },
  "nbformat": 4,
  "nbformat_minor": 0
}